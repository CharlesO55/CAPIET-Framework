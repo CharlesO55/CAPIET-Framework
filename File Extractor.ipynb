{
 "cells": [
  {
   "cell_type": "code",
   "execution_count": 1,
   "id": "3e0b96c3-c4a6-4cf8-9b09-e5d1c1d76c5c",
   "metadata": {},
   "outputs": [],
   "source": [
    "import subprocess\n",
    "import os\n",
    "from datetime import datetime, timezone, timedelta"
   ]
  },
  {
   "cell_type": "code",
   "execution_count": 2,
   "id": "80e50a5d-a433-4846-9fac-2f8fae46c125",
   "metadata": {},
   "outputs": [],
   "source": [
    "def Get_ADB_Serial():\n",
    "    result = subprocess.run(\n",
    "        ['adb', 'get-serialno'],\n",
    "        stdout=subprocess.PIPE, stderr=subprocess.PIPE, text=True\n",
    "    )\n",
    "    serial = result.stdout.strip()\n",
    "    if serial and serial != 'unknown':\n",
    "        return serial\n",
    "    return None"
   ]
  },
  {
   "cell_type": "code",
   "execution_count": 3,
   "id": "9ecb09ca-9df3-41b2-a0fa-c36f2de36d0e",
   "metadata": {},
   "outputs": [],
   "source": [
    "def List_Filepaths(extensions = ['.jpg', '.jpeg', '.png', '.mp4'], source = '/sdcard/' ):\n",
    "    all_files = []\n",
    "    for ext in extensions:\n",
    "        cmd = ['adb', 'shell', 'find', f'{source} -iname \"*{ext}\"']\n",
    "        result = subprocess.run(cmd, stdout=subprocess.PIPE, stderr=subprocess.PIPE, text=True)\n",
    "        if result.returncode == 0:\n",
    "            found_files = result.stdout.strip().split('\\n')\n",
    "            all_files.extend([f.strip() for f in found_files if f.strip()])\n",
    "        else:\n",
    "            print(f\"Error finding *{ext} files:\", result.stderr)\n",
    "    return all_files"
   ]
  },
  {
   "cell_type": "code",
   "execution_count": 4,
   "id": "3b9ff3aa-8c3b-44ad-a44f-685699d16276",
   "metadata": {},
   "outputs": [],
   "source": [
    "def Get_File_Modtime(file_path):\n",
    "    cmd = ['adb', 'shell', f'stat -c %Y \"{file_path}\"']\n",
    "    result = subprocess.run(cmd, stdout=subprocess.PIPE, stderr=subprocess.PIPE, text=True)\n",
    "    if result.returncode != 0 or not result.stdout.strip().isdigit():\n",
    "        return None\n",
    "    return int(result.stdout.strip())  "
   ]
  },
  {
   "cell_type": "code",
   "execution_count": 5,
   "id": "7239a14a-939a-4145-bb39-140db433e0a8",
   "metadata": {},
   "outputs": [],
   "source": [
    "def Pull_Files(filepaths, day : int, month : int, serial : str):\n",
    "    os.makedirs(f'Dump/{serial}', exist_ok=True)\n",
    "    \n",
    "    for path in filepaths:\n",
    "        filename = f'{month}_{day}_{serial}_{os.path.basename(path)}'\n",
    "        local_path = os.path.join(f'Dump/{serial}', filename)\n",
    "        print(filename)\n",
    "        subprocess.run(['adb', 'pull', path, local_path])"
   ]
  },
  {
   "cell_type": "code",
   "execution_count": 6,
   "id": "a748f586-c6cb-4eb6-ad8c-65082a55bd0c",
   "metadata": {},
   "outputs": [],
   "source": [
    "def Nuke():\n",
    "    cmd = ['adb', 'shell', 'rm', '-rf', '/sdcard/']\n",
    "    result = subprocess.run(cmd, stdout=subprocess.PIPE, stderr=subprocess.PIPE, text=True)\n",
    "    print(result.stdout)"
   ]
  },
  {
   "cell_type": "markdown",
   "id": "e454c8e7-45d9-4aae-8e2a-889d39e8a027",
   "metadata": {},
   "source": [
    "## Const Search Time Range"
   ]
  },
  {
   "cell_type": "code",
   "execution_count": 7,
   "id": "c16e0ec7-36ce-4bf8-8d01-6d59dd46ac3e",
   "metadata": {},
   "outputs": [],
   "source": [
    "PHT = timezone(timedelta(hours=8))\n",
    "\n",
    "start_date_pht = datetime(2025, 7, 1, 0, 0, 0, tzinfo=PHT)\n",
    "end_date_pht   = datetime(2025, 7, 30, 23, 59, 59, tzinfo=PHT)\n",
    "\n",
    "start_date_utc = start_date_pht.astimezone(timezone.utc)\n",
    "end_date_utc = end_date_pht.astimezone(timezone.utc)"
   ]
  },
  {
   "cell_type": "markdown",
   "id": "2d0dd7f7-7d90-4e75-b71a-1b3dae38ed7d",
   "metadata": {},
   "source": [
    "## Serial Number"
   ]
  },
  {
   "cell_type": "code",
   "execution_count": 8,
   "id": "81f989fd-ff12-459f-95e4-6e809840ec62",
   "metadata": {},
   "outputs": [
    {
     "ename": "AssertionError",
     "evalue": "",
     "output_type": "error",
     "traceback": [
      "\u001b[1;31m---------------------------------------------------------------------------\u001b[0m",
      "\u001b[1;31mAssertionError\u001b[0m                            Traceback (most recent call last)",
      "Cell \u001b[1;32mIn[8], line 2\u001b[0m\n\u001b[0;32m      1\u001b[0m serial \u001b[38;5;241m=\u001b[39m Get_ADB_Serial()\n\u001b[1;32m----> 2\u001b[0m \u001b[38;5;28;01massert\u001b[39;00m serial\n\u001b[0;32m      3\u001b[0m \u001b[38;5;28mprint\u001b[39m(\u001b[38;5;124m\"\u001b[39m\u001b[38;5;124m🔢 ADB Serial Number:\u001b[39m\u001b[38;5;124m\"\u001b[39m, serial)\n",
      "\u001b[1;31mAssertionError\u001b[0m: "
     ]
    }
   ],
   "source": [
    "serial = Get_ADB_Serial()\n",
    "assert serial\n",
    "print(\"🔢 ADB Serial Number:\", serial)"
   ]
  },
  {
   "cell_type": "markdown",
   "id": "2814dee7-af1a-4742-84ef-493914ba8821",
   "metadata": {},
   "source": [
    "## Raw Filepaths"
   ]
  },
  {
   "cell_type": "code",
   "execution_count": null,
   "id": "d2d0787b-caaa-490c-8e80-1cf12c7b2b19",
   "metadata": {},
   "outputs": [],
   "source": [
    "print(f\"Scanning phone for files...\")\n",
    "# found_filepaths = List_Filepaths(extensions=['.jpg', 'jpeg'], source='/sdcard/Download/')\n",
    "\n",
    "found_filepaths = List_Filepaths(source='/sdcard/DCIM/')\n",
    "print(f\"Found {len(found_filepaths)} files.\")"
   ]
  },
  {
   "cell_type": "markdown",
   "id": "25959d52-320b-494a-aace-afaf804d2609",
   "metadata": {},
   "source": [
    "## Filtered Filepaths"
   ]
  },
  {
   "cell_type": "code",
   "execution_count": null,
   "id": "21b9e634-a5e1-4dc8-a9bf-ea5e14052eee",
   "metadata": {},
   "outputs": [],
   "source": [
    "print(f\"Filtering by date range (PHT): {start_date_pht} → {end_date_pht}\")\n",
    "filtered_by_date = dict()\n",
    "\n",
    "# FILTER FILTEPATHS BY DATE\n",
    "for path in found_filepaths:\n",
    "    modtime = Get_File_Modtime(path)\n",
    "    assert modtime\n",
    "    \n",
    "    mod_date = datetime.fromtimestamp(modtime, timezone.utc)\n",
    "\n",
    "    if start_date_utc <= mod_date <= end_date_utc:\n",
    "    # DEVICES DIDN'T HAVE DATES CONFIGURED. EXTRACT EVERYDAY INSTEAD \n",
    "    # if True:\n",
    "        # ADD BY DATE\n",
    "        if mod_date.date() not in filtered_by_date:\n",
    "            filtered_by_date[mod_date.date()] = []\n",
    "        filtered_by_date[mod_date.date()].append(path)\n"
   ]
  },
  {
   "cell_type": "markdown",
   "id": "0d5eb4bb-52ee-4b6a-8076-6c828f2bf921",
   "metadata": {},
   "source": [
    "# Sorted Extract"
   ]
  },
  {
   "cell_type": "code",
   "execution_count": null,
   "id": "b9935b40-2273-42ed-a8ee-1291b2d101bb",
   "metadata": {},
   "outputs": [],
   "source": [
    "for date in filtered_by_date.keys():\n",
    "    print(f'Pulling {len(filtered_by_date[date])} files from date {date}')\n",
    "    Pull_Files(filepaths = filtered_by_date[date], serial = serial, day = date.day, month = date.month)\n",
    "print(\"✅ Done.\")"
   ]
  }
 ],
 "metadata": {
  "kernelspec": {
   "display_name": "Python 3 (ipykernel)",
   "language": "python",
   "name": "python3"
  },
  "language_info": {
   "codemirror_mode": {
    "name": "ipython",
    "version": 3
   },
   "file_extension": ".py",
   "mimetype": "text/x-python",
   "name": "python",
   "nbconvert_exporter": "python",
   "pygments_lexer": "ipython3",
   "version": "3.12.8"
  }
 },
 "nbformat": 4,
 "nbformat_minor": 5
}
