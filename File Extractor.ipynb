{
 "cells": [
  {
   "cell_type": "code",
   "execution_count": 1,
   "id": "3e0b96c3-c4a6-4cf8-9b09-e5d1c1d76c5c",
   "metadata": {},
   "outputs": [],
   "source": [
    "import subprocess\n",
    "import os\n",
    "from datetime import datetime, timezone, timedelta"
   ]
  },
  {
   "cell_type": "code",
   "execution_count": 2,
   "id": "80e50a5d-a433-4846-9fac-2f8fae46c125",
   "metadata": {},
   "outputs": [],
   "source": [
    "def Get_ADB_Serial():\n",
    "    result = subprocess.run(\n",
    "        ['adb', 'get-serialno'],\n",
    "        stdout=subprocess.PIPE, stderr=subprocess.PIPE, text=True\n",
    "    )\n",
    "    serial = result.stdout.strip()\n",
    "    if serial and serial != 'unknown':\n",
    "        return serial\n",
    "    return None"
   ]
  },
  {
   "cell_type": "code",
   "execution_count": 3,
   "id": "9ecb09ca-9df3-41b2-a0fa-c36f2de36d0e",
   "metadata": {},
   "outputs": [],
   "source": [
    "def List_Filepaths(extensions = ['.jpg', '.jpeg', '.png', '.mp4'], source = '/sdcard/' ):\n",
    "    all_files = []\n",
    "    for ext in extensions:\n",
    "        cmd = ['adb', 'shell', 'find', f'{source} -iname \"*{ext}\"']\n",
    "        result = subprocess.run(cmd, stdout=subprocess.PIPE, stderr=subprocess.PIPE, text=True)\n",
    "        if result.returncode == 0:\n",
    "            found_files = result.stdout.strip().split('\\n')\n",
    "            all_files.extend([f.strip() for f in found_files if f.strip()])\n",
    "        else:\n",
    "            print(f\"Error finding *{ext} files:\", result.stderr)\n",
    "    return all_files"
   ]
  },
  {
   "cell_type": "code",
   "execution_count": 4,
   "id": "3b9ff3aa-8c3b-44ad-a44f-685699d16276",
   "metadata": {},
   "outputs": [],
   "source": [
    "def Get_File_Modtime(file_path):\n",
    "    cmd = ['adb', 'shell', f'stat -c %Y \"{file_path}\"']\n",
    "    result = subprocess.run(cmd, stdout=subprocess.PIPE, stderr=subprocess.PIPE, text=True)\n",
    "    if result.returncode != 0 or not result.stdout.strip().isdigit():\n",
    "        return None\n",
    "    return int(result.stdout.strip())  "
   ]
  },
  {
   "cell_type": "code",
   "execution_count": 5,
   "id": "7239a14a-939a-4145-bb39-140db433e0a8",
   "metadata": {},
   "outputs": [],
   "source": [
    "def Pull_Files(filepaths, day : int, month : int, serial : str):\n",
    "    os.makedirs(f'Dump/{serial}', exist_ok=True)\n",
    "    \n",
    "    for path in filepaths:\n",
    "        filename = f'{month}_{day}_{serial}_{os.path.basename(path)}'\n",
    "        local_path = os.path.join(f'Dump/{serial}', filename)\n",
    "        print(filename)\n",
    "        subprocess.run(['adb', 'pull', path, local_path])"
   ]
  },
  {
   "cell_type": "code",
   "execution_count": 6,
   "id": "a748f586-c6cb-4eb6-ad8c-65082a55bd0c",
   "metadata": {},
   "outputs": [],
   "source": [
    "def Nuke():\n",
    "    cmd = ['adb', 'shell', 'rm', '-rf', '/sdcard/']\n",
    "    result = subprocess.run(cmd, stdout=subprocess.PIPE, stderr=subprocess.PIPE, text=True)\n",
    "    print(result.stdout)"
   ]
  },
  {
   "cell_type": "markdown",
   "id": "e454c8e7-45d9-4aae-8e2a-889d39e8a027",
   "metadata": {},
   "source": [
    "## Const Search Time Range"
   ]
  },
  {
   "cell_type": "code",
   "execution_count": 7,
   "id": "c16e0ec7-36ce-4bf8-8d01-6d59dd46ac3e",
   "metadata": {},
   "outputs": [],
   "source": [
    "PHT = timezone(timedelta(hours=8))\n",
    "\n",
    "start_date_pht = datetime(2025, 7, 1, 0, 0, 0, tzinfo=PHT)\n",
    "end_date_pht   = datetime(2025, 7, 30, 23, 59, 59, tzinfo=PHT)\n",
    "\n",
    "start_date_utc = start_date_pht.astimezone(timezone.utc)\n",
    "end_date_utc = end_date_pht.astimezone(timezone.utc)"
   ]
  },
  {
   "cell_type": "markdown",
   "id": "2d0dd7f7-7d90-4e75-b71a-1b3dae38ed7d",
   "metadata": {},
   "source": [
    "## Serial Number"
   ]
  },
  {
   "cell_type": "code",
   "execution_count": 8,
   "id": "81f989fd-ff12-459f-95e4-6e809840ec62",
   "metadata": {},
   "outputs": [
    {
     "name": "stdout",
     "output_type": "stream",
     "text": [
      "🔢 ADB Serial Number: R5CN71E9HYH\n"
     ]
    }
   ],
   "source": [
    "serial = Get_ADB_Serial()\n",
    "assert serial\n",
    "print(\"🔢 ADB Serial Number:\", serial)"
   ]
  },
  {
   "cell_type": "markdown",
   "id": "2814dee7-af1a-4742-84ef-493914ba8821",
   "metadata": {},
   "source": [
    "## Raw Filepaths"
   ]
  },
  {
   "cell_type": "code",
   "execution_count": 9,
   "id": "d2d0787b-caaa-490c-8e80-1cf12c7b2b19",
   "metadata": {},
   "outputs": [
    {
     "name": "stdout",
     "output_type": "stream",
     "text": [
      "Scanning phone for files...\n",
      "Found 949 files.\n"
     ]
    }
   ],
   "source": [
    "print(f\"Scanning phone for files...\")\n",
    "# found_filepaths = List_Filepaths(extensions=['.jpg', 'jpeg'], source='/sdcard/Download/')\n",
    "\n",
    "found_filepaths = List_Filepaths(source='/sdcard/DCIM/')\n",
    "print(f\"Found {len(found_filepaths)} files.\")"
   ]
  },
  {
   "cell_type": "markdown",
   "id": "25959d52-320b-494a-aace-afaf804d2609",
   "metadata": {},
   "source": [
    "## Filtered Filepaths"
   ]
  },
  {
   "cell_type": "code",
   "execution_count": 10,
   "id": "21b9e634-a5e1-4dc8-a9bf-ea5e14052eee",
   "metadata": {},
   "outputs": [
    {
     "name": "stdout",
     "output_type": "stream",
     "text": [
      "Filtering by date range (PHT): 2025-07-01 00:00:00+08:00 → 2025-07-30 23:59:59+08:00\n"
     ]
    }
   ],
   "source": [
    "print(f\"Filtering by date range (PHT): {start_date_pht} → {end_date_pht}\")\n",
    "filtered_by_date = dict()\n",
    "\n",
    "# FILTER FILTEPATHS BY DATE\n",
    "for path in found_filepaths:\n",
    "    modtime = Get_File_Modtime(path)\n",
    "    assert modtime\n",
    "    \n",
    "    mod_date = datetime.fromtimestamp(modtime, timezone.utc)\n",
    "\n",
    "    if start_date_utc <= mod_date <= end_date_utc:\n",
    "    # DEVICES DIDN'T HAVE DATES CONFIGURED. EXTRACT EVERYDAY INSTEAD \n",
    "    # if True:\n",
    "        # ADD BY DATE\n",
    "        if mod_date.date() not in filtered_by_date:\n",
    "            filtered_by_date[mod_date.date()] = []\n",
    "        filtered_by_date[mod_date.date()].append(path)\n"
   ]
  },
  {
   "cell_type": "markdown",
   "id": "0d5eb4bb-52ee-4b6a-8076-6c828f2bf921",
   "metadata": {},
   "source": [
    "# Sorted Extract"
   ]
  },
  {
   "cell_type": "code",
   "execution_count": 11,
   "id": "b9935b40-2273-42ed-a8ee-1291b2d101bb",
   "metadata": {},
   "outputs": [
    {
     "name": "stdout",
     "output_type": "stream",
     "text": [
      "Pulling 14 files from date 2025-07-15\n",
      "7_15_R5CN71E9HYH_20250715_095901.jpg\n",
      "7_15_R5CN71E9HYH_20250715_095858.jpg\n",
      "7_15_R5CN71E9HYH_20250715_100510.jpg\n",
      "7_15_R5CN71E9HYH_20250715_131320.jpg\n",
      "7_15_R5CN71E9HYH_20250715_163741.jpg\n",
      "7_15_R5CN71E9HYH_20250715_095707.jpg\n",
      "7_15_R5CN71E9HYH_20250715_095903.jpg\n",
      "7_15_R5CN71E9HYH_20250715_131330.jpg\n",
      "7_15_R5CN71E9HYH_20250715_095703.jpg\n",
      "7_15_R5CN71E9HYH_20250715_095712.jpg\n",
      "7_15_R5CN71E9HYH_20250715_100630.jpg\n",
      "7_15_R5CN71E9HYH_Screenshot_20250715_091202_Gmail.jpg\n",
      "7_15_R5CN71E9HYH_Screenshot_20250715_142727_Gmail.jpg\n",
      "7_15_R5CN71E9HYH_Screenshot_20250715_142752_Gmail.jpg\n",
      "Pulling 3 files from date 2025-07-03\n",
      "7_3_R5CN71E9HYH_20250703_215441.jpg\n",
      "7_3_R5CN71E9HYH_20250703_215415.jpg\n",
      "7_3_R5CN71E9HYH_20250703_215411.jpg\n",
      "Pulling 8 files from date 2025-07-01\n",
      "7_1_R5CN71E9HYH_20250701_121722.jpg\n",
      "7_1_R5CN71E9HYH_20250701_215105.jpg\n",
      "7_1_R5CN71E9HYH_20250701_121832.jpg\n",
      "7_1_R5CN71E9HYH_20250701_121711.jpg\n",
      "7_1_R5CN71E9HYH_20250701_215116.jpg\n",
      "7_1_R5CN71E9HYH_20250701_215027.jpg\n",
      "7_1_R5CN71E9HYH_20250701_215132.jpg\n",
      "7_1_R5CN71E9HYH_Screenshot_20250701_111428_Drive.jpg\n",
      "Pulling 3 files from date 2025-07-08\n",
      "7_8_R5CN71E9HYH_Screenshot_20250708_131028_Maps.jpg\n",
      "7_8_R5CN71E9HYH_Screenshot_20250708_133421_EZVIZ.jpg\n",
      "7_8_R5CN71E9HYH_Screenshot_20250708_133412_EZVIZ.jpg\n",
      "Pulling 44 files from date 2025-07-11\n",
      "7_11_R5CN71E9HYH_Screenshot_20250711_220142_Umamusume.jpg\n",
      "7_11_R5CN71E9HYH_Screenshot_20250711_220215_Umamusume.jpg\n",
      "7_11_R5CN71E9HYH_Screenshot_20250711_220407_Umamusume.jpg\n",
      "7_11_R5CN71E9HYH_Screenshot_20250711_220411_Umamusume.jpg\n",
      "7_11_R5CN71E9HYH_Screenshot_20250711_220508_Umamusume.jpg\n",
      "7_11_R5CN71E9HYH_Screenshot_20250711_220521_Umamusume.jpg\n",
      "7_11_R5CN71E9HYH_Screenshot_20250711_220530_Umamusume.jpg\n",
      "7_11_R5CN71E9HYH_Screenshot_20250711_220600_Umamusume.jpg\n",
      "7_11_R5CN71E9HYH_Screenshot_20250711_220735_Umamusume.jpg\n",
      "7_11_R5CN71E9HYH_Screenshot_20250711_221404_Umamusume.jpg\n",
      "7_11_R5CN71E9HYH_Screenshot_20250711_221424_Umamusume.jpg\n",
      "7_11_R5CN71E9HYH_Screenshot_20250711_222816_Umamusume.jpg\n",
      "7_11_R5CN71E9HYH_Screenshot_20250711_223044_Umamusume.jpg\n",
      "7_11_R5CN71E9HYH_Screenshot_20250711_223053_Umamusume.jpg\n",
      "7_11_R5CN71E9HYH_Screenshot_20250711_223145_Umamusume.jpg\n",
      "7_11_R5CN71E9HYH_Screenshot_20250711_223214_Umamusume.jpg\n",
      "7_11_R5CN71E9HYH_Screenshot_20250711_223450_Umamusume.jpg\n",
      "7_11_R5CN71E9HYH_Screenshot_20250711_223628_Umamusume.jpg\n",
      "7_11_R5CN71E9HYH_Screenshot_20250711_223652_Umamusume.jpg\n",
      "7_11_R5CN71E9HYH_Screenshot_20250711_223657_Umamusume.jpg\n",
      "7_11_R5CN71E9HYH_Screenshot_20250711_223703_Umamusume.jpg\n",
      "7_11_R5CN71E9HYH_Screenshot_20250711_223739_Umamusume.jpg\n",
      "7_11_R5CN71E9HYH_Screenshot_20250711_223814_Umamusume.jpg\n",
      "7_11_R5CN71E9HYH_Screenshot_20250711_223839_Umamusume.jpg\n",
      "7_11_R5CN71E9HYH_Screenshot_20250711_223942_Umamusume.jpg\n",
      "7_11_R5CN71E9HYH_Screenshot_20250711_172012_Reddit.jpg\n",
      "7_11_R5CN71E9HYH_Screenshot_20250711_220013_Umamusume.jpg\n",
      "7_11_R5CN71E9HYH_Screenshot_20250711_220255_Umamusume.jpg\n",
      "7_11_R5CN71E9HYH_Screenshot_20250711_220650_Umamusume.jpg\n",
      "7_11_R5CN71E9HYH_Screenshot_20250711_220657_Umamusume.jpg\n",
      "7_11_R5CN71E9HYH_Screenshot_20250711_221400_Umamusume.jpg\n",
      "7_11_R5CN71E9HYH_Screenshot_20250711_222443_Umamusume.jpg\n",
      "7_11_R5CN71E9HYH_Screenshot_20250711_222447_Umamusume.jpg\n",
      "7_11_R5CN71E9HYH_Screenshot_20250711_222453_Umamusume.jpg\n",
      "7_11_R5CN71E9HYH_Screenshot_20250711_223149_Umamusume.jpg\n",
      "7_11_R5CN71E9HYH_Screenshot_20250711_223443_Umamusume.jpg\n",
      "7_11_R5CN71E9HYH_Screenshot_20250711_223617_Umamusume.jpg\n",
      "7_11_R5CN71E9HYH_Screenshot_20250711_223708_Umamusume.jpg\n",
      "7_11_R5CN71E9HYH_Screenshot_20250711_223850_Umamusume.jpg\n",
      "7_11_R5CN71E9HYH_Screenshot_20250711_223856_Umamusume.jpg\n",
      "7_11_R5CN71E9HYH_Screenshot_20250711_223906_Umamusume.jpg\n",
      "7_11_R5CN71E9HYH_Screenshot_20250711_223914_Umamusume.jpg\n",
      "7_11_R5CN71E9HYH_Screenshot_20250711_223922_Umamusume.jpg\n",
      "7_11_R5CN71E9HYH_Screenshot_20250711_223950_Umamusume.jpg\n",
      "Pulling 4 files from date 2025-07-17\n",
      "7_17_R5CN71E9HYH_Screenshot_20250717_152939_YouTube.jpg\n",
      "7_17_R5CN71E9HYH_Screenshot_20250717_153131_YouTube.jpg\n",
      "7_17_R5CN71E9HYH_Screenshot_20250717_153310_YouTube.jpg\n",
      "7_17_R5CN71E9HYH_Screenshot_20250717_153352_YouTube.jpg\n",
      "Pulling 2 files from date 2025-07-18\n",
      "7_18_R5CN71E9HYH_Screenshot_20250718_091940_Messenger.jpg\n",
      "7_18_R5CN71E9HYH_20250718_114314.mp4\n",
      "Pulling 2 files from date 2025-07-02\n",
      "7_2_R5CN71E9HYH_Screenshot_20250702_125304_Lazada.jpg\n",
      "7_2_R5CN71E9HYH_Screenshot_20250702_125357_Lazada.jpg\n",
      "Pulling 1 files from date 2025-07-05\n",
      "7_5_R5CN71E9HYH_Screenshot_20250705_151100_Lalamove.jpg\n",
      "Pulling 2 files from date 2025-07-09\n",
      "7_9_R5CN71E9HYH_Screenshot_20250709_121544_YouTube.jpg\n",
      "7_9_R5CN71E9HYH_Screenshot_20250709_223645_Umamusume.jpg\n",
      "✅ Done.\n"
     ]
    }
   ],
   "source": [
    "for date in filtered_by_date.keys():\n",
    "    print(f'Pulling {len(filtered_by_date[date])} files from date {date}')\n",
    "    Pull_Files(filepaths = filtered_by_date[date], serial = serial, day = date.day, month = date.month)\n",
    "print(\"✅ Done.\")"
   ]
  }
 ],
 "metadata": {
  "kernelspec": {
   "display_name": "Python 3 (ipykernel)",
   "language": "python",
   "name": "python3"
  },
  "language_info": {
   "codemirror_mode": {
    "name": "ipython",
    "version": 3
   },
   "file_extension": ".py",
   "mimetype": "text/x-python",
   "name": "python",
   "nbconvert_exporter": "python",
   "pygments_lexer": "ipython3",
   "version": "3.12.8"
  }
 },
 "nbformat": 4,
 "nbformat_minor": 5
}
