{
 "cells": [
  {
   "cell_type": "code",
   "execution_count": 1,
   "id": "9c5ca98f-deab-4872-8f64-a0fbb29767a1",
   "metadata": {},
   "outputs": [],
   "source": [
    "import pandas as pd\n",
    "import numpy as np\n",
    "import matplotlib.pyplot as plt\n",
    "from scipy.stats import shapiro, ttest_rel, wilcoxon, probplot"
   ]
  },
  {
   "cell_type": "markdown",
   "id": "2d9c0a61-ace0-4ac8-b020-a3a0e466e62f",
   "metadata": {},
   "source": [
    "# Pipeline\n",
    "\n",
    "1. Determine Normality of Delta Score between Pretest and Postest\n",
    "    1. If normal, use `paired t-test` to measure significant difference from mean.\n",
    "    2. Else, use `wilcoxon` to measure significant difference from median.\n",
    "2. Evaluate p_value\n",
    "    1. Significant change if p < threshold (0.05)\n",
    "3. Evaluate effect\n",
    "    1. If normal, use `Cohen's D`.\n",
    "    2. Else, use `Rank-biserial correlation`. "
   ]
  },
  {
   "cell_type": "code",
   "execution_count": 2,
   "id": "a237a06e-83fe-4153-8715-dc70fd45bc24",
   "metadata": {
    "scrolled": true
   },
   "outputs": [
    {
     "data": {
      "text/html": [
       "<div>\n",
       "<style scoped>\n",
       "    .dataframe tbody tr th:only-of-type {\n",
       "        vertical-align: middle;\n",
       "    }\n",
       "\n",
       "    .dataframe tbody tr th {\n",
       "        vertical-align: top;\n",
       "    }\n",
       "\n",
       "    .dataframe thead th {\n",
       "        text-align: right;\n",
       "    }\n",
       "</style>\n",
       "<table border=\"1\" class=\"dataframe\">\n",
       "  <thead>\n",
       "    <tr style=\"text-align: right;\">\n",
       "      <th></th>\n",
       "      <th>Pretest</th>\n",
       "      <th>Posttest</th>\n",
       "      <th>Difference</th>\n",
       "    </tr>\n",
       "  </thead>\n",
       "  <tbody>\n",
       "    <tr>\n",
       "      <th>0</th>\n",
       "      <td>11.0</td>\n",
       "      <td>15.0</td>\n",
       "      <td>4.0</td>\n",
       "    </tr>\n",
       "    <tr>\n",
       "      <th>1</th>\n",
       "      <td>17.0</td>\n",
       "      <td>14.0</td>\n",
       "      <td>-3.0</td>\n",
       "    </tr>\n",
       "    <tr>\n",
       "      <th>2</th>\n",
       "      <td>20.0</td>\n",
       "      <td>13.0</td>\n",
       "      <td>-7.0</td>\n",
       "    </tr>\n",
       "    <tr>\n",
       "      <th>3</th>\n",
       "      <td>13.0</td>\n",
       "      <td>20.0</td>\n",
       "      <td>7.0</td>\n",
       "    </tr>\n",
       "    <tr>\n",
       "      <th>4</th>\n",
       "      <td>18.0</td>\n",
       "      <td>19.0</td>\n",
       "      <td>1.0</td>\n",
       "    </tr>\n",
       "    <tr>\n",
       "      <th>5</th>\n",
       "      <td>19.0</td>\n",
       "      <td>19.0</td>\n",
       "      <td>0.0</td>\n",
       "    </tr>\n",
       "    <tr>\n",
       "      <th>6</th>\n",
       "      <td>14.0</td>\n",
       "      <td>13.0</td>\n",
       "      <td>-1.0</td>\n",
       "    </tr>\n",
       "    <tr>\n",
       "      <th>7</th>\n",
       "      <td>17.0</td>\n",
       "      <td>14.0</td>\n",
       "      <td>-3.0</td>\n",
       "    </tr>\n",
       "    <tr>\n",
       "      <th>8</th>\n",
       "      <td>10.0</td>\n",
       "      <td>16.0</td>\n",
       "      <td>6.0</td>\n",
       "    </tr>\n",
       "    <tr>\n",
       "      <th>9</th>\n",
       "      <td>9.0</td>\n",
       "      <td>18.0</td>\n",
       "      <td>9.0</td>\n",
       "    </tr>\n",
       "    <tr>\n",
       "      <th>10</th>\n",
       "      <td>13.0</td>\n",
       "      <td>18.0</td>\n",
       "      <td>5.0</td>\n",
       "    </tr>\n",
       "    <tr>\n",
       "      <th>11</th>\n",
       "      <td>12.0</td>\n",
       "      <td>15.0</td>\n",
       "      <td>3.0</td>\n",
       "    </tr>\n",
       "    <tr>\n",
       "      <th>12</th>\n",
       "      <td>13.0</td>\n",
       "      <td>16.0</td>\n",
       "      <td>3.0</td>\n",
       "    </tr>\n",
       "    <tr>\n",
       "      <th>13</th>\n",
       "      <td>16.0</td>\n",
       "      <td>16.0</td>\n",
       "      <td>0.0</td>\n",
       "    </tr>\n",
       "    <tr>\n",
       "      <th>14</th>\n",
       "      <td>14.0</td>\n",
       "      <td>18.0</td>\n",
       "      <td>4.0</td>\n",
       "    </tr>\n",
       "    <tr>\n",
       "      <th>15</th>\n",
       "      <td>17.0</td>\n",
       "      <td>16.0</td>\n",
       "      <td>-1.0</td>\n",
       "    </tr>\n",
       "    <tr>\n",
       "      <th>16</th>\n",
       "      <td>13.0</td>\n",
       "      <td>16.0</td>\n",
       "      <td>3.0</td>\n",
       "    </tr>\n",
       "    <tr>\n",
       "      <th>17</th>\n",
       "      <td>14.0</td>\n",
       "      <td>16.5</td>\n",
       "      <td>2.5</td>\n",
       "    </tr>\n",
       "    <tr>\n",
       "      <th>18</th>\n",
       "      <td>10.0</td>\n",
       "      <td>13.0</td>\n",
       "      <td>3.0</td>\n",
       "    </tr>\n",
       "    <tr>\n",
       "      <th>19</th>\n",
       "      <td>11.0</td>\n",
       "      <td>15.0</td>\n",
       "      <td>4.0</td>\n",
       "    </tr>\n",
       "  </tbody>\n",
       "</table>\n",
       "</div>"
      ],
      "text/plain": [
       "    Pretest  Posttest  Difference\n",
       "0      11.0      15.0         4.0\n",
       "1      17.0      14.0        -3.0\n",
       "2      20.0      13.0        -7.0\n",
       "3      13.0      20.0         7.0\n",
       "4      18.0      19.0         1.0\n",
       "5      19.0      19.0         0.0\n",
       "6      14.0      13.0        -1.0\n",
       "7      17.0      14.0        -3.0\n",
       "8      10.0      16.0         6.0\n",
       "9       9.0      18.0         9.0\n",
       "10     13.0      18.0         5.0\n",
       "11     12.0      15.0         3.0\n",
       "12     13.0      16.0         3.0\n",
       "13     16.0      16.0         0.0\n",
       "14     14.0      18.0         4.0\n",
       "15     17.0      16.0        -1.0\n",
       "16     13.0      16.0         3.0\n",
       "17     14.0      16.5         2.5\n",
       "18     10.0      13.0         3.0\n",
       "19     11.0      15.0         4.0"
      ]
     },
     "execution_count": 2,
     "metadata": {},
     "output_type": "execute_result"
    }
   ],
   "source": [
    "# Use your own csv data file.\n",
    "# If with missing scores, run the Impute notebook and use the new csv\n",
    "\n",
    "df_Scores = pd.read_csv('Datasets/Imputed.csv', index_col=0)\n",
    "\n",
    "df_Scores['Difference'] = df_Scores['Posttest'] - df_Scores['Pretest']  \n",
    "df_Scores"
   ]
  },
  {
   "cell_type": "code",
   "execution_count": 3,
   "id": "ac3bc2e7-537a-443f-9170-7c8de8a63d61",
   "metadata": {},
   "outputs": [
    {
     "data": {
      "text/html": [
       "<div>\n",
       "<style scoped>\n",
       "    .dataframe tbody tr th:only-of-type {\n",
       "        vertical-align: middle;\n",
       "    }\n",
       "\n",
       "    .dataframe tbody tr th {\n",
       "        vertical-align: top;\n",
       "    }\n",
       "\n",
       "    .dataframe thead th {\n",
       "        text-align: right;\n",
       "    }\n",
       "</style>\n",
       "<table border=\"1\" class=\"dataframe\">\n",
       "  <thead>\n",
       "    <tr style=\"text-align: right;\">\n",
       "      <th></th>\n",
       "      <th>Pretest</th>\n",
       "      <th>Posttest</th>\n",
       "      <th>Difference</th>\n",
       "    </tr>\n",
       "  </thead>\n",
       "  <tbody>\n",
       "    <tr>\n",
       "      <th>count</th>\n",
       "      <td>20.000000</td>\n",
       "      <td>20.0000</td>\n",
       "      <td>20.000000</td>\n",
       "    </tr>\n",
       "    <tr>\n",
       "      <th>mean</th>\n",
       "      <td>14.050000</td>\n",
       "      <td>16.0250</td>\n",
       "      <td>1.975000</td>\n",
       "    </tr>\n",
       "    <tr>\n",
       "      <th>std</th>\n",
       "      <td>3.170173</td>\n",
       "      <td>2.1056</td>\n",
       "      <td>3.792218</td>\n",
       "    </tr>\n",
       "    <tr>\n",
       "      <th>min</th>\n",
       "      <td>9.000000</td>\n",
       "      <td>13.0000</td>\n",
       "      <td>-7.000000</td>\n",
       "    </tr>\n",
       "    <tr>\n",
       "      <th>25%</th>\n",
       "      <td>11.750000</td>\n",
       "      <td>14.7500</td>\n",
       "      <td>-0.250000</td>\n",
       "    </tr>\n",
       "    <tr>\n",
       "      <th>50%</th>\n",
       "      <td>13.500000</td>\n",
       "      <td>16.0000</td>\n",
       "      <td>3.000000</td>\n",
       "    </tr>\n",
       "    <tr>\n",
       "      <th>75%</th>\n",
       "      <td>17.000000</td>\n",
       "      <td>18.0000</td>\n",
       "      <td>4.000000</td>\n",
       "    </tr>\n",
       "    <tr>\n",
       "      <th>max</th>\n",
       "      <td>20.000000</td>\n",
       "      <td>20.0000</td>\n",
       "      <td>9.000000</td>\n",
       "    </tr>\n",
       "  </tbody>\n",
       "</table>\n",
       "</div>"
      ],
      "text/plain": [
       "         Pretest  Posttest  Difference\n",
       "count  20.000000   20.0000   20.000000\n",
       "mean   14.050000   16.0250    1.975000\n",
       "std     3.170173    2.1056    3.792218\n",
       "min     9.000000   13.0000   -7.000000\n",
       "25%    11.750000   14.7500   -0.250000\n",
       "50%    13.500000   16.0000    3.000000\n",
       "75%    17.000000   18.0000    4.000000\n",
       "max    20.000000   20.0000    9.000000"
      ]
     },
     "execution_count": 3,
     "metadata": {},
     "output_type": "execute_result"
    }
   ],
   "source": [
    "df_Scores.describe()"
   ]
  },
  {
   "cell_type": "markdown",
   "id": "c7814e04-4954-427b-b798-37c63c93628e",
   "metadata": {},
   "source": [
    "# Inspect Normality Distribution"
   ]
  },
  {
   "cell_type": "markdown",
   "id": "20db307c-b077-4a6e-8193-3e20ace83261",
   "metadata": {},
   "source": [
    "## A. Graphical Approach"
   ]
  },
  {
   "cell_type": "code",
   "execution_count": 4,
   "id": "44ed6858-13f6-4a3c-9385-7c559e5b75e7",
   "metadata": {},
   "outputs": [
    {
     "data": {
      "image/png": "[encoded data removed]",
      "text/plain": [
       "<Figure size 640x480 with 1 Axes>"
      ]
     },
     "metadata": {},
     "output_type": "display_data"
    }
   ],
   "source": [
    "plt.boxplot(df_Scores)\n",
    "plt.title(\"Box Plot of Scores\")\n",
    "plt.xticks(ticks=np.arange(1,df_Scores.columns.size + 1), labels=df_Scores.columns, rotation=45)\n",
    "plt.ylabel(\"Value\")\n",
    "plt.grid(True)\n",
    "plt.savefig('Graphs/Box Plot of Scores.png')\n",
    "plt.show()"
   ]
  },
  {
   "cell_type": "markdown",
   "id": "9278c5ff-e215-42d3-bd51-6f604c0d627b",
   "metadata": {},
   "source": [
    "### Distribution Curve\n",
    "Check for symmetry and center."
   ]
  },
  {
   "cell_type": "code",
   "execution_count": 5,
   "id": "83752399-9229-46a5-b26a-df71ef2e3fe0",
   "metadata": {},
   "outputs": [
    {
     "data": {
      "image/png": "[encoded data removed]",
      "text/plain": [
       "<Figure size 640x480 with 1 Axes>"
      ]
     },
     "metadata": {},
     "output_type": "display_data"
    }
   ],
   "source": [
    "plt.hist(df_Scores['Difference'], bins=20)\n",
    "plt.title('Score Difference Distribution')\n",
    "plt.xlabel('Score Difference')\n",
    "plt.ylabel('Frequency')\n",
    "plt.savefig('Graphs/Hist Score Distribution.png')\n",
    "plt.show()"
   ]
  },
  {
   "cell_type": "markdown",
   "id": "3a348c81-bf7d-45c6-ab40-03b862f41c10",
   "metadata": {},
   "source": [
    "### Q-Q Plot\n",
    "Check if values land precisely on the line."
   ]
  },
  {
   "cell_type": "code",
   "execution_count": 6,
   "id": "983207ec-2762-4c29-89f2-e24c0f5d1fe6",
   "metadata": {},
   "outputs": [
    {
     "data": {
      "image/png": "[encoded data removed]",
      "text/plain": [
       "<Figure size 640x480 with 1 Axes>"
      ]
     },
     "metadata": {},
     "output_type": "display_data"
    }
   ],
   "source": [
    "probplot(df_Scores.Difference, dist=\"norm\", plot=plt)\n",
    "plt.title(\"Q-Q Plot of Score Difference\")\n",
    "plt.xlabel(\"Theoretical Quantiles\")\n",
    "plt.ylabel(\"Sample Quantiles\")\n",
    "plt.grid(True)\n",
    "plt.savefig('Graphs/QQ Plot of Score Difference.png')\n",
    "plt.show()"
   ]
  },
  {
   "cell_type": "markdown",
   "id": "f72cd3b9-7792-4763-873a-fcbfe9d5232e",
   "metadata": {},
   "source": [
    "## B. Statistical Approach\n",
    "### Shapiro for n <= 20\n",
    "\n",
    "Null Hypothesis is that it's Normal"
   ]
  },
  {
   "cell_type": "code",
   "execution_count": 7,
   "id": "bcdf9338-dac0-4b7c-bf9d-ccebf9fe3f55",
   "metadata": {},
   "outputs": [
    {
     "name": "stdout",
     "output_type": "stream",
     "text": [
      "t: 0.9711\n",
      "p: 0.7779\n"
     ]
    }
   ],
   "source": [
    "shapiro_result = shapiro(df_Scores.Difference)\n",
    "\n",
    "print(f't: {shapiro_result.statistic:.4f}')\n",
    "print(f'p: {shapiro_result.pvalue:.4f}')"
   ]
  },
  {
   "cell_type": "markdown",
   "id": "f0962edb-f5bd-4602-b38f-e738e8a68e88",
   "metadata": {},
   "source": [
    "# Evaluate Significant Difference and Effect\n",
    "\n",
    "<table>\n",
    "    <tr>\n",
    "        <td></td>\n",
    "        <td><b>T-Test</b></td>\n",
    "        <td><b>Wilcoxon</b></td>\n",
    "    </tr>\n",
    "    <tr>\n",
    "        <td><b>Sample size</b></td>\n",
    "        <td></td>\n",
    "        <td>N <= 20</td>\n",
    "    </tr>\n",
    "    <tr>\n",
    "        <td><b>Normal Distribution</b></td>\n",
    "        <td>✅</td>\n",
    "        <td>❌</td>\n",
    "    </tr>\n",
    "    <tr>\n",
    "        <td><b>Signinifigance</b></td>\n",
    "        <td>Mean</td>\n",
    "        <td>Median</td>\n",
    "    </tr>\n",
    "    <tr>\n",
    "        <td><b>Effect Metric</b></td>\n",
    "        <td>Cohen's D</td>\n",
    "        <td>Rank-biserial Correlation</td>\n",
    "    </tr>\n",
    "</table>"
   ]
  },
  {
   "cell_type": "code",
   "execution_count": 8,
   "id": "125e430a-5bbf-4a74-bc80-e6f3f14cc967",
   "metadata": {},
   "outputs": [
    {
     "name": "stdout",
     "output_type": "stream",
     "text": [
      "Using Paired T-Test with Normal Data 0.7779\n",
      "Cohen's D: 0.5208\n",
      "Test statistic: -2.3291\n",
      "p: 0.0310\n"
     ]
    }
   ],
   "source": [
    "if shapiro_result.pvalue > 0.05:\n",
    "    print(f'Using Paired T-Test with Normal Data {shapiro_result.pvalue:.4f}')\n",
    "    result = ttest_rel(df_Scores.Pretest, df_Scores.Posttest)\n",
    "\n",
    "    cohens_d = df_Scores.Difference.mean() / df_Scores.Difference.std()\n",
    "    print(f'Cohen\\'s D: {cohens_d:.4f}')\n",
    "\n",
    "else:\n",
    "    print(f'Using Wilcoxon with Non-Paremetric Data {shapiro_result.pvalue:.4f}%')\n",
    "    result = wilcoxon(df_Scores.Difference)\n",
    "\n",
    "    W = result.statistic\n",
    "    n = df_Scores.shape[0]\n",
    "    rb_corr = 1 - (2 * W) / (n * (n + 1) / 2)\n",
    "    \n",
    "    # rb_corr = result.zstatistic / np.sqrt(df_Scores.Difference.size)\n",
    "    print(f'Rank-biserial correlation: {rb_corr:.4f}')\n",
    "    \n",
    "    \n",
    "print(f'Test statistic: {result.statistic:.4f}')\n",
    "print(f'p: {result.pvalue:.4f}')"
   ]
  },
  {
   "cell_type": "markdown",
   "id": "123fa63a-cc2d-48e9-8531-0f1e01156610",
   "metadata": {},
   "source": [
    "### Cohen's D Effectiveness\n",
    "![Cohen's D](https://www.simplypsychology.org/wp-content/uploads/cohen-d.jpg)"
   ]
  }
 ],
 "metadata": {
  "kernelspec": {
   "display_name": "Python 3 (ipykernel)",
   "language": "python",
   "name": "python3"
  },
  "language_info": {
   "codemirror_mode": {
    "name": "ipython",
    "version": 3
   },
   "file_extension": ".py",
   "mimetype": "text/x-python",
   "name": "python",
   "nbconvert_exporter": "python",
   "pygments_lexer": "ipython3",
   "version": "3.12.8"
  }
 },
 "nbformat": 4,
 "nbformat_minor": 5
}
