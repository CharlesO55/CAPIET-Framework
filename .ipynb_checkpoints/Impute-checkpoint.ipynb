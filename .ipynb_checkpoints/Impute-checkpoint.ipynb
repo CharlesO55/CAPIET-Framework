{
 "cells": [
  {
   "cell_type": "code",
   "execution_count": 1,
   "id": "9882df27-1412-42d9-96cc-515a04bbeb8b",
   "metadata": {},
   "outputs": [],
   "source": [
    "import pandas as pd\n",
    "import matplotlib.pyplot as plt\n",
    "import numpy as np\n",
    "from sklearn.impute import KNNImputer\n",
    "from sklearn.preprocessing import StandardScaler"
   ]
  },
  {
   "cell_type": "markdown",
   "id": "2ee037de-af0f-4699-8d2e-15181097e79e",
   "metadata": {},
   "source": [
    "# Handle Missing Values"
   ]
  },
  {
   "cell_type": "code",
   "execution_count": 2,
   "id": "744f061e-87e7-4ec6-87d6-d5c813fa2f9e",
   "metadata": {},
   "outputs": [
    {
     "data": {
      "text/html": [
       "<div>\n",
       "<style scoped>\n",
       "    .dataframe tbody tr th:only-of-type {\n",
       "        vertical-align: middle;\n",
       "    }\n",
       "\n",
       "    .dataframe tbody tr th {\n",
       "        vertical-align: top;\n",
       "    }\n",
       "\n",
       "    .dataframe thead th {\n",
       "        text-align: right;\n",
       "    }\n",
       "</style>\n",
       "<table border=\"1\" class=\"dataframe\">\n",
       "  <thead>\n",
       "    <tr style=\"text-align: right;\">\n",
       "      <th></th>\n",
       "      <th>Pretest</th>\n",
       "      <th>Posttest</th>\n",
       "    </tr>\n",
       "  </thead>\n",
       "  <tbody>\n",
       "    <tr>\n",
       "      <th>2</th>\n",
       "      <td>NaN</td>\n",
       "      <td>14.0</td>\n",
       "    </tr>\n",
       "    <tr>\n",
       "      <th>8</th>\n",
       "      <td>NaN</td>\n",
       "      <td>14.0</td>\n",
       "    </tr>\n",
       "    <tr>\n",
       "      <th>11</th>\n",
       "      <td>13.0</td>\n",
       "      <td>NaN</td>\n",
       "    </tr>\n",
       "    <tr>\n",
       "      <th>13</th>\n",
       "      <td>NaN</td>\n",
       "      <td>16.0</td>\n",
       "    </tr>\n",
       "    <tr>\n",
       "      <th>15</th>\n",
       "      <td>NaN</td>\n",
       "      <td>18.0</td>\n",
       "    </tr>\n",
       "    <tr>\n",
       "      <th>18</th>\n",
       "      <td>14.0</td>\n",
       "      <td>NaN</td>\n",
       "    </tr>\n",
       "  </tbody>\n",
       "</table>\n",
       "</div>"
      ],
      "text/plain": [
       "    Pretest  Posttest\n",
       "2       NaN      14.0\n",
       "8       NaN      14.0\n",
       "11     13.0       NaN\n",
       "13      NaN      16.0\n",
       "15      NaN      18.0\n",
       "18     14.0       NaN"
      ]
     },
     "execution_count": 2,
     "metadata": {},
     "output_type": "execute_result"
    }
   ],
   "source": [
    "df_Raw = pd.read_csv('Datasets/TestMissing.csv', index_col=0)\n",
    "missing_Rows = df_Raw[df_Raw.isna().any(axis=1)]\n",
    "\n",
    "missing_Rows"
   ]
  },
  {
   "cell_type": "markdown",
   "id": "517240ee-dc32-4e3a-8fec-218d76a61726",
   "metadata": {},
   "source": [
    "# Choose only 1 Imputation Method\n",
    "## A. Simple Imputation\n",
    "1. Use mean if no outliers\n",
    "2. Else use median imputation"
   ]
  },
  {
   "cell_type": "code",
   "execution_count": 3,
   "id": "10b3c9dd-138a-45b4-af1e-380aa210fba4",
   "metadata": {},
   "outputs": [
    {
     "data": {
      "image/png": "[encoded data removed]",
      "text/plain": [
       "<Figure size 640x480 with 1 Axes>"
      ]
     },
     "metadata": {},
     "output_type": "display_data"
    }
   ],
   "source": [
    "df_Raw.boxplot()\n",
    "plt.show()"
   ]
  },
  {
   "cell_type": "code",
   "execution_count": 4,
   "id": "77a4e975-fb60-41dc-9812-e91247bdbae2",
   "metadata": {},
   "outputs": [
    {
     "ename": "NameError",
     "evalue": "name 'DisableGuardToMeanImpute' is not defined",
     "output_type": "error",
     "traceback": [
      "\u001b[1;31m---------------------------------------------------------------------------\u001b[0m",
      "\u001b[1;31mNameError\u001b[0m                                 Traceback (most recent call last)",
      "Cell \u001b[1;32mIn[4], line 1\u001b[0m\n\u001b[1;32m----> 1\u001b[0m \u001b[38;5;28;01massert\u001b[39;00m \u001b[43mDisableGuardToMeanImpute\u001b[49m\n\u001b[0;32m      3\u001b[0m df_Imputed \u001b[38;5;241m=\u001b[39m df_Raw\u001b[38;5;241m.\u001b[39mcopy()\n\u001b[0;32m      5\u001b[0m \u001b[38;5;28;01mfor\u001b[39;00m col \u001b[38;5;129;01min\u001b[39;00m df_Raw\u001b[38;5;241m.\u001b[39mcolumns:\n",
      "\u001b[1;31mNameError\u001b[0m: name 'DisableGuardToMeanImpute' is not defined"
     ]
    }
   ],
   "source": [
    "assert DisableGuardToMeanImpute\n",
    "\n",
    "df_Imputed = df_Raw.copy()\n",
    "\n",
    "for col in df_Raw.columns:\n",
    "    print(f'Imputing {col} with mean {df_Raw[col].mean()}')\n",
    "    df_Imputed[col] = df_Raw[col].fillna(df_Raw[col].mean())"
   ]
  },
  {
   "cell_type": "code",
   "execution_count": null,
   "id": "a7d4f104-d26d-4cc3-b19b-db5944aabd5e",
   "metadata": {},
   "outputs": [],
   "source": [
    "assert DisableGuardToMedianImpute\n",
    "\n",
    "df_Imputed = df_Raw.copy()\n",
    "\n",
    "for col in df_Raw.columns:\n",
    "    print(f'Imputing {col} with median {df_Raw[col].median()}')\n",
    "    df_Imputed[col] = df_Raw[col].fillna(df_Raw[col].median())"
   ]
  },
  {
   "cell_type": "markdown",
   "id": "1ce7a551-fed5-4e4a-9515-cd2c48b59fca",
   "metadata": {},
   "source": [
    "## B. Relational KNN  Imputation "
   ]
  },
  {
   "cell_type": "code",
   "execution_count": 5,
   "id": "fac973e4-7f07-446c-bddf-c5d5bbaeb8c1",
   "metadata": {},
   "outputs": [
    {
     "data": {
      "text/html": [
       "<div>\n",
       "<style scoped>\n",
       "    .dataframe tbody tr th:only-of-type {\n",
       "        vertical-align: middle;\n",
       "    }\n",
       "\n",
       "    .dataframe tbody tr th {\n",
       "        vertical-align: top;\n",
       "    }\n",
       "\n",
       "    .dataframe thead th {\n",
       "        text-align: right;\n",
       "    }\n",
       "</style>\n",
       "<table border=\"1\" class=\"dataframe\">\n",
       "  <thead>\n",
       "    <tr style=\"text-align: right;\">\n",
       "      <th></th>\n",
       "      <th>Pretest</th>\n",
       "      <th>Posttest</th>\n",
       "    </tr>\n",
       "  </thead>\n",
       "  <tbody>\n",
       "    <tr>\n",
       "      <th>0</th>\n",
       "      <td>11.0</td>\n",
       "      <td>15.0</td>\n",
       "    </tr>\n",
       "    <tr>\n",
       "      <th>1</th>\n",
       "      <td>17.0</td>\n",
       "      <td>14.0</td>\n",
       "    </tr>\n",
       "    <tr>\n",
       "      <th>2</th>\n",
       "      <td>20.0</td>\n",
       "      <td>13.0</td>\n",
       "    </tr>\n",
       "    <tr>\n",
       "      <th>3</th>\n",
       "      <td>13.0</td>\n",
       "      <td>20.0</td>\n",
       "    </tr>\n",
       "    <tr>\n",
       "      <th>4</th>\n",
       "      <td>18.0</td>\n",
       "      <td>19.0</td>\n",
       "    </tr>\n",
       "    <tr>\n",
       "      <th>5</th>\n",
       "      <td>19.0</td>\n",
       "      <td>19.0</td>\n",
       "    </tr>\n",
       "    <tr>\n",
       "      <th>6</th>\n",
       "      <td>14.0</td>\n",
       "      <td>13.0</td>\n",
       "    </tr>\n",
       "    <tr>\n",
       "      <th>7</th>\n",
       "      <td>17.0</td>\n",
       "      <td>14.0</td>\n",
       "    </tr>\n",
       "    <tr>\n",
       "      <th>8</th>\n",
       "      <td>10.0</td>\n",
       "      <td>16.0</td>\n",
       "    </tr>\n",
       "    <tr>\n",
       "      <th>9</th>\n",
       "      <td>9.0</td>\n",
       "      <td>18.0</td>\n",
       "    </tr>\n",
       "    <tr>\n",
       "      <th>10</th>\n",
       "      <td>13.0</td>\n",
       "      <td>18.0</td>\n",
       "    </tr>\n",
       "    <tr>\n",
       "      <th>11</th>\n",
       "      <td>12.0</td>\n",
       "      <td>15.0</td>\n",
       "    </tr>\n",
       "    <tr>\n",
       "      <th>12</th>\n",
       "      <td>13.0</td>\n",
       "      <td>16.0</td>\n",
       "    </tr>\n",
       "    <tr>\n",
       "      <th>13</th>\n",
       "      <td>16.0</td>\n",
       "      <td>16.0</td>\n",
       "    </tr>\n",
       "    <tr>\n",
       "      <th>14</th>\n",
       "      <td>14.0</td>\n",
       "      <td>18.0</td>\n",
       "    </tr>\n",
       "    <tr>\n",
       "      <th>15</th>\n",
       "      <td>17.0</td>\n",
       "      <td>16.0</td>\n",
       "    </tr>\n",
       "    <tr>\n",
       "      <th>16</th>\n",
       "      <td>13.0</td>\n",
       "      <td>16.0</td>\n",
       "    </tr>\n",
       "    <tr>\n",
       "      <th>17</th>\n",
       "      <td>14.0</td>\n",
       "      <td>16.5</td>\n",
       "    </tr>\n",
       "    <tr>\n",
       "      <th>18</th>\n",
       "      <td>10.0</td>\n",
       "      <td>13.0</td>\n",
       "    </tr>\n",
       "    <tr>\n",
       "      <th>19</th>\n",
       "      <td>11.0</td>\n",
       "      <td>15.0</td>\n",
       "    </tr>\n",
       "  </tbody>\n",
       "</table>\n",
       "</div>"
      ],
      "text/plain": [
       "    Pretest  Posttest\n",
       "0      11.0      15.0\n",
       "1      17.0      14.0\n",
       "2      20.0      13.0\n",
       "3      13.0      20.0\n",
       "4      18.0      19.0\n",
       "5      19.0      19.0\n",
       "6      14.0      13.0\n",
       "7      17.0      14.0\n",
       "8      10.0      16.0\n",
       "9       9.0      18.0\n",
       "10     13.0      18.0\n",
       "11     12.0      15.0\n",
       "12     13.0      16.0\n",
       "13     16.0      16.0\n",
       "14     14.0      18.0\n",
       "15     17.0      16.0\n",
       "16     13.0      16.0\n",
       "17     14.0      16.5\n",
       "18     10.0      13.0\n",
       "19     11.0      15.0"
      ]
     },
     "execution_count": 5,
     "metadata": {},
     "output_type": "execute_result"
    }
   ],
   "source": [
    "# assert DisableGuardToKNNImpute\n",
    "\n",
    "scaler = StandardScaler()\n",
    "df_Scaled = pd.DataFrame(scaler.fit_transform(df_Raw), columns=df_Raw.columns)\n",
    "\n",
    "df_Imputed = KNNImputer(n_neighbors=2).fit_transform(df_Scaled)\n",
    "df_Imputed = pd.DataFrame(scaler.inverse_transform(df_Imputed), columns=df_Raw.columns)\n",
    "del scaler\n",
    "\n",
    "df_Imputed"
   ]
  },
  {
   "cell_type": "markdown",
   "id": "ca496c8d-9e43-4793-a2d3-abcef8c40000",
   "metadata": {},
   "source": [
    "# Verify\n",
    "The distribution should remain roughly the same."
   ]
  },
  {
   "cell_type": "code",
   "execution_count": 6,
   "id": "633a4af5-a8d1-4605-a814-a11e03d0bc69",
   "metadata": {},
   "outputs": [
    {
     "data": {
      "image/png": "[encoded data removed]",
      "text/plain": [
       "<Figure size 640x480 with 2 Axes>"
      ]
     },
     "metadata": {},
     "output_type": "display_data"
    }
   ],
   "source": [
    "fig, axes = plt.subplots(1,2)\n",
    "\n",
    "axes[0] = df_Raw.boxplot(ax=axes[0]) \n",
    "axes[0].set_title('Raw')\n",
    "axes[1] = df_Imputed.boxplot(ax=axes[1]) \n",
    "axes[1].set_title('Imputed')\n",
    "plt.show()"
   ]
  },
  {
   "cell_type": "markdown",
   "id": "7eef5074-81f8-4be6-ac37-0808b17f27e9",
   "metadata": {},
   "source": [
    "# Save"
   ]
  },
  {
   "cell_type": "code",
   "execution_count": 7,
   "id": "8fb21cc9-b615-4e56-9fee-41ec7f43d81d",
   "metadata": {},
   "outputs": [],
   "source": [
    "df_Imputed.to_csv('Datasets/Imputed.csv')"
   ]
  }
 ],
 "metadata": {
  "kernelspec": {
   "display_name": "Python 3 (ipykernel)",
   "language": "python",
   "name": "python3"
  },
  "language_info": {
   "codemirror_mode": {
    "name": "ipython",
    "version": 3
   },
   "file_extension": ".py",
   "mimetype": "text/x-python",
   "name": "python",
   "nbconvert_exporter": "python",
   "pygments_lexer": "ipython3",
   "version": "3.12.8"
  }
 },
 "nbformat": 4,
 "nbformat_minor": 5
}
