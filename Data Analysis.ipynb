{
 "cells": [
  {
   "cell_type": "code",
   "execution_count": 1,
   "id": "9c5ca98f-deab-4872-8f64-a0fbb29767a1",
   "metadata": {},
   "outputs": [],
   "source": [
    "import pandas as pd\n",
    "import numpy as np\n",
    "import matplotlib.pyplot as plt\n",
    "from scipy.stats import shapiro, ttest_rel, wilcoxon, probplot"
   ]
  },
  {
   "cell_type": "markdown",
   "id": "0b7594b3-3afa-4770-a3e9-b693ba3fa7c1",
   "metadata": {},
   "source": [
    "# Import Raw Dataset"
   ]
  },
  {
   "cell_type": "code",
   "execution_count": 2,
   "id": "a237a06e-83fe-4153-8715-dc70fd45bc24",
   "metadata": {
    "scrolled": true
   },
   "outputs": [
    {
     "data": {
      "text/html": [
       "<div>\n",
       "<style scoped>\n",
       "    .dataframe tbody tr th:only-of-type {\n",
       "        vertical-align: middle;\n",
       "    }\n",
       "\n",
       "    .dataframe tbody tr th {\n",
       "        vertical-align: top;\n",
       "    }\n",
       "\n",
       "    .dataframe thead th {\n",
       "        text-align: right;\n",
       "    }\n",
       "</style>\n",
       "<table border=\"1\" class=\"dataframe\">\n",
       "  <thead>\n",
       "    <tr style=\"text-align: right;\">\n",
       "      <th></th>\n",
       "      <th>Sex</th>\n",
       "      <th>Age</th>\n",
       "      <th>Grade</th>\n",
       "      <th>IsSecondTime</th>\n",
       "      <th>Pretest</th>\n",
       "      <th>Posttest</th>\n",
       "      <th>Difference</th>\n",
       "    </tr>\n",
       "    <tr>\n",
       "      <th>Surname</th>\n",
       "      <th></th>\n",
       "      <th></th>\n",
       "      <th></th>\n",
       "      <th></th>\n",
       "      <th></th>\n",
       "      <th></th>\n",
       "      <th></th>\n",
       "    </tr>\n",
       "  </thead>\n",
       "  <tbody>\n",
       "    <tr>\n",
       "      <th>Apresto</th>\n",
       "      <td>F</td>\n",
       "      <td>10.0</td>\n",
       "      <td>4.0</td>\n",
       "      <td>0.0</td>\n",
       "      <td>0.0</td>\n",
       "      <td>0.0</td>\n",
       "      <td>0.0</td>\n",
       "    </tr>\n",
       "    <tr>\n",
       "      <th>Bargo</th>\n",
       "      <td>F</td>\n",
       "      <td>10.0</td>\n",
       "      <td>5.0</td>\n",
       "      <td>0.0</td>\n",
       "      <td>10.0</td>\n",
       "      <td>0.0</td>\n",
       "      <td>-10.0</td>\n",
       "    </tr>\n",
       "    <tr>\n",
       "      <th>Callos</th>\n",
       "      <td>F</td>\n",
       "      <td>11.0</td>\n",
       "      <td>6.0</td>\n",
       "      <td>0.0</td>\n",
       "      <td>0.0</td>\n",
       "      <td>0.0</td>\n",
       "      <td>0.0</td>\n",
       "    </tr>\n",
       "    <tr>\n",
       "      <th>Capillano</th>\n",
       "      <td>F</td>\n",
       "      <td>11.0</td>\n",
       "      <td>6.0</td>\n",
       "      <td>0.0</td>\n",
       "      <td>4.0</td>\n",
       "      <td>0.0</td>\n",
       "      <td>-4.0</td>\n",
       "    </tr>\n",
       "    <tr>\n",
       "      <th>Galan</th>\n",
       "      <td>F</td>\n",
       "      <td>12.0</td>\n",
       "      <td>6.0</td>\n",
       "      <td>1.0</td>\n",
       "      <td>2.0</td>\n",
       "      <td>2.0</td>\n",
       "      <td>0.0</td>\n",
       "    </tr>\n",
       "    <tr>\n",
       "      <th>Gonzaga</th>\n",
       "      <td>M</td>\n",
       "      <td>11.0</td>\n",
       "      <td>6.0</td>\n",
       "      <td>1.0</td>\n",
       "      <td>0.0</td>\n",
       "      <td>0.0</td>\n",
       "      <td>0.0</td>\n",
       "    </tr>\n",
       "    <tr>\n",
       "      <th>Helig</th>\n",
       "      <td>F</td>\n",
       "      <td>8.0</td>\n",
       "      <td>4.0</td>\n",
       "      <td>0.0</td>\n",
       "      <td>0.0</td>\n",
       "      <td>0.0</td>\n",
       "      <td>0.0</td>\n",
       "    </tr>\n",
       "    <tr>\n",
       "      <th>Hermano</th>\n",
       "      <td>F</td>\n",
       "      <td>11.0</td>\n",
       "      <td>6.0</td>\n",
       "      <td>1.0</td>\n",
       "      <td>4.0</td>\n",
       "      <td>0.0</td>\n",
       "      <td>-4.0</td>\n",
       "    </tr>\n",
       "    <tr>\n",
       "      <th>Loyola</th>\n",
       "      <td>F</td>\n",
       "      <td>9.0</td>\n",
       "      <td>5.0</td>\n",
       "      <td>0.0</td>\n",
       "      <td>4.0</td>\n",
       "      <td>1.0</td>\n",
       "      <td>-3.0</td>\n",
       "    </tr>\n",
       "    <tr>\n",
       "      <th>Malabriga</th>\n",
       "      <td>F</td>\n",
       "      <td>11.0</td>\n",
       "      <td>4.0</td>\n",
       "      <td>0.0</td>\n",
       "      <td>6.0</td>\n",
       "      <td>0.0</td>\n",
       "      <td>-6.0</td>\n",
       "    </tr>\n",
       "    <tr>\n",
       "      <th>Mendoza</th>\n",
       "      <td>M</td>\n",
       "      <td>9.0</td>\n",
       "      <td>5.0</td>\n",
       "      <td>0.0</td>\n",
       "      <td>0.0</td>\n",
       "      <td>0.0</td>\n",
       "      <td>0.0</td>\n",
       "    </tr>\n",
       "    <tr>\n",
       "      <th>Nera</th>\n",
       "      <td>M</td>\n",
       "      <td>11.0</td>\n",
       "      <td>6.0</td>\n",
       "      <td>1.0</td>\n",
       "      <td>5.0</td>\n",
       "      <td>4.0</td>\n",
       "      <td>-1.0</td>\n",
       "    </tr>\n",
       "    <tr>\n",
       "      <th>Parame</th>\n",
       "      <td>M</td>\n",
       "      <td>10.0</td>\n",
       "      <td>4.0</td>\n",
       "      <td>0.0</td>\n",
       "      <td>3.0</td>\n",
       "      <td>0.0</td>\n",
       "      <td>-3.0</td>\n",
       "    </tr>\n",
       "    <tr>\n",
       "      <th>Tolentino</th>\n",
       "      <td>M</td>\n",
       "      <td>9.0</td>\n",
       "      <td>5.0</td>\n",
       "      <td>0.0</td>\n",
       "      <td>0.0</td>\n",
       "      <td>0.0</td>\n",
       "      <td>0.0</td>\n",
       "    </tr>\n",
       "    <tr>\n",
       "      <th>NaN</th>\n",
       "      <td>0</td>\n",
       "      <td>0.0</td>\n",
       "      <td>0.0</td>\n",
       "      <td>0.0</td>\n",
       "      <td>6.0</td>\n",
       "      <td>0.0</td>\n",
       "      <td>-6.0</td>\n",
       "    </tr>\n",
       "  </tbody>\n",
       "</table>\n",
       "</div>"
      ],
      "text/plain": [
       "          Sex   Age  Grade  IsSecondTime  Pretest  Posttest  Difference\n",
       "Surname                                                                \n",
       "Apresto     F  10.0    4.0           0.0      0.0       0.0         0.0\n",
       "Bargo       F  10.0    5.0           0.0     10.0       0.0       -10.0\n",
       "Callos      F  11.0    6.0           0.0      0.0       0.0         0.0\n",
       "Capillano   F  11.0    6.0           0.0      4.0       0.0        -4.0\n",
       "Galan       F  12.0    6.0           1.0      2.0       2.0         0.0\n",
       "Gonzaga     M  11.0    6.0           1.0      0.0       0.0         0.0\n",
       "Helig       F   8.0    4.0           0.0      0.0       0.0         0.0\n",
       "Hermano     F  11.0    6.0           1.0      4.0       0.0        -4.0\n",
       "Loyola      F   9.0    5.0           0.0      4.0       1.0        -3.0\n",
       "Malabriga   F  11.0    4.0           0.0      6.0       0.0        -6.0\n",
       "Mendoza     M   9.0    5.0           0.0      0.0       0.0         0.0\n",
       "Nera        M  11.0    6.0           1.0      5.0       4.0        -1.0\n",
       "Parame      M  10.0    4.0           0.0      3.0       0.0        -3.0\n",
       "Tolentino   M   9.0    5.0           0.0      0.0       0.0         0.0\n",
       "NaN         0   0.0    0.0           0.0      6.0       0.0        -6.0"
      ]
     },
     "execution_count": 2,
     "metadata": {},
     "output_type": "execute_result"
    }
   ],
   "source": [
    "# Use your own csv data file.\n",
    "# If with missing scores, run the Impute notebook and use the new csv\n",
    "\n",
    "df_Scores = pd.read_csv('Datasets/ArcaneSample.csv', index_col=0)\n",
    "df_Scores = df_Scores.fillna(0)\n",
    "\n",
    "df_Scores['Difference'] = df_Scores['Posttest'] - df_Scores['Pretest']  \n",
    "df_Scores"
   ]
  },
  {
   "cell_type": "markdown",
   "id": "e64526ef-1d0c-445e-bfcc-f6775675fe4d",
   "metadata": {},
   "source": [
    "# Filter (Optional)\n",
    "Create subsets of the dataframe to test for.\n",
    "\n",
    "i.e.\n",
    "* Grade level\n",
    "* Sex\n",
    "* Age"
   ]
  },
  {
   "cell_type": "code",
   "execution_count": 3,
   "id": "0b291e64-7c09-4b1f-b40a-51b80e110716",
   "metadata": {},
   "outputs": [],
   "source": [
    "df_Grade4 = df_Scores[df_Scores['Grade'] == 4].copy()\n",
    "df_Grade5 = df_Scores[df_Scores['Grade'] == 5].copy()\n",
    "df_Grade6 = df_Scores[df_Scores['Grade'] == 6].copy()"
   ]
  },
  {
   "cell_type": "markdown",
   "id": "b1d954ba-117d-45b0-8fca-c9b1490025b7",
   "metadata": {},
   "source": [
    "# Set df_Score to the Data you will use\n",
    "i.e. `df_Scores = df_Grade4`"
   ]
  },
  {
   "cell_type": "code",
   "execution_count": 4,
   "id": "b22334eb-84ee-4707-9fe0-259d9bb23d5a",
   "metadata": {},
   "outputs": [
    {
     "data": {
      "text/html": [
       "<div>\n",
       "<style scoped>\n",
       "    .dataframe tbody tr th:only-of-type {\n",
       "        vertical-align: middle;\n",
       "    }\n",
       "\n",
       "    .dataframe tbody tr th {\n",
       "        vertical-align: top;\n",
       "    }\n",
       "\n",
       "    .dataframe thead th {\n",
       "        text-align: right;\n",
       "    }\n",
       "</style>\n",
       "<table border=\"1\" class=\"dataframe\">\n",
       "  <thead>\n",
       "    <tr style=\"text-align: right;\">\n",
       "      <th></th>\n",
       "      <th>Sex</th>\n",
       "      <th>Age</th>\n",
       "      <th>Grade</th>\n",
       "      <th>IsSecondTime</th>\n",
       "      <th>Pretest</th>\n",
       "      <th>Posttest</th>\n",
       "      <th>Difference</th>\n",
       "    </tr>\n",
       "    <tr>\n",
       "      <th>Surname</th>\n",
       "      <th></th>\n",
       "      <th></th>\n",
       "      <th></th>\n",
       "      <th></th>\n",
       "      <th></th>\n",
       "      <th></th>\n",
       "      <th></th>\n",
       "    </tr>\n",
       "  </thead>\n",
       "  <tbody>\n",
       "    <tr>\n",
       "      <th>Apresto</th>\n",
       "      <td>F</td>\n",
       "      <td>10.0</td>\n",
       "      <td>4.0</td>\n",
       "      <td>0.0</td>\n",
       "      <td>0.0</td>\n",
       "      <td>0.0</td>\n",
       "      <td>0.0</td>\n",
       "    </tr>\n",
       "    <tr>\n",
       "      <th>Helig</th>\n",
       "      <td>F</td>\n",
       "      <td>8.0</td>\n",
       "      <td>4.0</td>\n",
       "      <td>0.0</td>\n",
       "      <td>0.0</td>\n",
       "      <td>0.0</td>\n",
       "      <td>0.0</td>\n",
       "    </tr>\n",
       "    <tr>\n",
       "      <th>Malabriga</th>\n",
       "      <td>F</td>\n",
       "      <td>11.0</td>\n",
       "      <td>4.0</td>\n",
       "      <td>0.0</td>\n",
       "      <td>6.0</td>\n",
       "      <td>0.0</td>\n",
       "      <td>-6.0</td>\n",
       "    </tr>\n",
       "    <tr>\n",
       "      <th>Parame</th>\n",
       "      <td>M</td>\n",
       "      <td>10.0</td>\n",
       "      <td>4.0</td>\n",
       "      <td>0.0</td>\n",
       "      <td>3.0</td>\n",
       "      <td>0.0</td>\n",
       "      <td>-3.0</td>\n",
       "    </tr>\n",
       "  </tbody>\n",
       "</table>\n",
       "</div>"
      ],
      "text/plain": [
       "          Sex   Age  Grade  IsSecondTime  Pretest  Posttest  Difference\n",
       "Surname                                                                \n",
       "Apresto     F  10.0    4.0           0.0      0.0       0.0         0.0\n",
       "Helig       F   8.0    4.0           0.0      0.0       0.0         0.0\n",
       "Malabriga   F  11.0    4.0           0.0      6.0       0.0        -6.0\n",
       "Parame      M  10.0    4.0           0.0      3.0       0.0        -3.0"
      ]
     },
     "execution_count": 4,
     "metadata": {},
     "output_type": "execute_result"
    }
   ],
   "source": [
    "df_Scores = df_Grade4\n",
    "df_Scores"
   ]
  },
  {
   "cell_type": "markdown",
   "id": "3ec374e2-7173-42db-b0f9-965bd256f617",
   "metadata": {},
   "source": [
    "Drop the additional filter features"
   ]
  },
  {
   "cell_type": "code",
   "execution_count": 6,
   "id": "3248c724-3223-4272-b4f1-c6eb84b8a450",
   "metadata": {},
   "outputs": [
    {
     "data": {
      "text/html": [
       "<div>\n",
       "<style scoped>\n",
       "    .dataframe tbody tr th:only-of-type {\n",
       "        vertical-align: middle;\n",
       "    }\n",
       "\n",
       "    .dataframe tbody tr th {\n",
       "        vertical-align: top;\n",
       "    }\n",
       "\n",
       "    .dataframe thead th {\n",
       "        text-align: right;\n",
       "    }\n",
       "</style>\n",
       "<table border=\"1\" class=\"dataframe\">\n",
       "  <thead>\n",
       "    <tr style=\"text-align: right;\">\n",
       "      <th></th>\n",
       "      <th>Pretest</th>\n",
       "      <th>Posttest</th>\n",
       "      <th>Difference</th>\n",
       "    </tr>\n",
       "    <tr>\n",
       "      <th>Surname</th>\n",
       "      <th></th>\n",
       "      <th></th>\n",
       "      <th></th>\n",
       "    </tr>\n",
       "  </thead>\n",
       "  <tbody>\n",
       "    <tr>\n",
       "      <th>Apresto</th>\n",
       "      <td>0.0</td>\n",
       "      <td>0.0</td>\n",
       "      <td>0.0</td>\n",
       "    </tr>\n",
       "    <tr>\n",
       "      <th>Helig</th>\n",
       "      <td>0.0</td>\n",
       "      <td>0.0</td>\n",
       "      <td>0.0</td>\n",
       "    </tr>\n",
       "    <tr>\n",
       "      <th>Malabriga</th>\n",
       "      <td>6.0</td>\n",
       "      <td>0.0</td>\n",
       "      <td>-6.0</td>\n",
       "    </tr>\n",
       "    <tr>\n",
       "      <th>Parame</th>\n",
       "      <td>3.0</td>\n",
       "      <td>0.0</td>\n",
       "      <td>-3.0</td>\n",
       "    </tr>\n",
       "  </tbody>\n",
       "</table>\n",
       "</div>"
      ],
      "text/plain": [
       "           Pretest  Posttest  Difference\n",
       "Surname                                 \n",
       "Apresto        0.0       0.0         0.0\n",
       "Helig          0.0       0.0         0.0\n",
       "Malabriga      6.0       0.0        -6.0\n",
       "Parame         3.0       0.0        -3.0"
      ]
     },
     "execution_count": 6,
     "metadata": {},
     "output_type": "execute_result"
    }
   ],
   "source": [
    "df_Scores = df_Scores[['Pretest',\t'Posttest',\t'Difference']] \n",
    "df_Scores"
   ]
  },
  {
   "cell_type": "markdown",
   "id": "2d9c0a61-ace0-4ac8-b020-a3a0e466e62f",
   "metadata": {},
   "source": [
    "# Pipeline\n",
    "\n",
    "1. Determine Normality of Delta Score between Pretest and Postest\n",
    "    1. If normal, use `paired t-test` to measure significant difference from mean.\n",
    "    2. Else, use `wilcoxon` to measure significant difference from median.\n",
    "2. Evaluate p_value\n",
    "    1. Significant change if p < threshold (0.05)\n",
    "3. Evaluate effect\n",
    "    1. If normal, use `Cohen's D`.\n",
    "    2. Else, use `Rank-biserial correlation`. "
   ]
  },
  {
   "cell_type": "code",
   "execution_count": 7,
   "id": "ac3bc2e7-537a-443f-9170-7c8de8a63d61",
   "metadata": {},
   "outputs": [
    {
     "data": {
      "text/html": [
       "<div>\n",
       "<style scoped>\n",
       "    .dataframe tbody tr th:only-of-type {\n",
       "        vertical-align: middle;\n",
       "    }\n",
       "\n",
       "    .dataframe tbody tr th {\n",
       "        vertical-align: top;\n",
       "    }\n",
       "\n",
       "    .dataframe thead th {\n",
       "        text-align: right;\n",
       "    }\n",
       "</style>\n",
       "<table border=\"1\" class=\"dataframe\">\n",
       "  <thead>\n",
       "    <tr style=\"text-align: right;\">\n",
       "      <th></th>\n",
       "      <th>Pretest</th>\n",
       "      <th>Posttest</th>\n",
       "      <th>Difference</th>\n",
       "    </tr>\n",
       "  </thead>\n",
       "  <tbody>\n",
       "    <tr>\n",
       "      <th>count</th>\n",
       "      <td>4.000000</td>\n",
       "      <td>4.0</td>\n",
       "      <td>4.000000</td>\n",
       "    </tr>\n",
       "    <tr>\n",
       "      <th>mean</th>\n",
       "      <td>2.250000</td>\n",
       "      <td>0.0</td>\n",
       "      <td>-2.250000</td>\n",
       "    </tr>\n",
       "    <tr>\n",
       "      <th>std</th>\n",
       "      <td>2.872281</td>\n",
       "      <td>0.0</td>\n",
       "      <td>2.872281</td>\n",
       "    </tr>\n",
       "    <tr>\n",
       "      <th>min</th>\n",
       "      <td>0.000000</td>\n",
       "      <td>0.0</td>\n",
       "      <td>-6.000000</td>\n",
       "    </tr>\n",
       "    <tr>\n",
       "      <th>25%</th>\n",
       "      <td>0.000000</td>\n",
       "      <td>0.0</td>\n",
       "      <td>-3.750000</td>\n",
       "    </tr>\n",
       "    <tr>\n",
       "      <th>50%</th>\n",
       "      <td>1.500000</td>\n",
       "      <td>0.0</td>\n",
       "      <td>-1.500000</td>\n",
       "    </tr>\n",
       "    <tr>\n",
       "      <th>75%</th>\n",
       "      <td>3.750000</td>\n",
       "      <td>0.0</td>\n",
       "      <td>0.000000</td>\n",
       "    </tr>\n",
       "    <tr>\n",
       "      <th>max</th>\n",
       "      <td>6.000000</td>\n",
       "      <td>0.0</td>\n",
       "      <td>0.000000</td>\n",
       "    </tr>\n",
       "  </tbody>\n",
       "</table>\n",
       "</div>"
      ],
      "text/plain": [
       "        Pretest  Posttest  Difference\n",
       "count  4.000000       4.0    4.000000\n",
       "mean   2.250000       0.0   -2.250000\n",
       "std    2.872281       0.0    2.872281\n",
       "min    0.000000       0.0   -6.000000\n",
       "25%    0.000000       0.0   -3.750000\n",
       "50%    1.500000       0.0   -1.500000\n",
       "75%    3.750000       0.0    0.000000\n",
       "max    6.000000       0.0    0.000000"
      ]
     },
     "execution_count": 7,
     "metadata": {},
     "output_type": "execute_result"
    }
   ],
   "source": [
    "df_Scores.describe()"
   ]
  },
  {
   "cell_type": "markdown",
   "id": "c7814e04-4954-427b-b798-37c63c93628e",
   "metadata": {},
   "source": [
    "# Inspect Normality Distribution"
   ]
  },
  {
   "cell_type": "markdown",
   "id": "20db307c-b077-4a6e-8193-3e20ace83261",
   "metadata": {},
   "source": [
    "## A. Graphical Approach"
   ]
  },
  {
   "cell_type": "code",
   "execution_count": 8,
   "id": "44ed6858-13f6-4a3c-9385-7c559e5b75e7",
   "metadata": {},
   "outputs": [
    {
     "data": {
      "image/png": "[encoded data removed]",
      "text/plain": [
       "<Figure size 640x480 with 1 Axes>"
      ]
     },
     "metadata": {},
     "output_type": "display_data"
    }
   ],
   "source": [
    "plt.boxplot(df_Scores)\n",
    "plt.title(\"Box Plot of Scores\")\n",
    "plt.xticks(ticks=np.arange(1,df_Scores.columns.size + 1), labels=df_Scores.columns, rotation=45)\n",
    "plt.ylabel(\"Value\")\n",
    "plt.grid(True)\n",
    "plt.savefig('Graphs/Box Plot of Scores.png')\n",
    "plt.show()"
   ]
  },
  {
   "cell_type": "markdown",
   "id": "9278c5ff-e215-42d3-bd51-6f604c0d627b",
   "metadata": {},
   "source": [
    "### Distribution Curve\n",
    "Check for symmetry and center."
   ]
  },
  {
   "cell_type": "code",
   "execution_count": 9,
   "id": "83752399-9229-46a5-b26a-df71ef2e3fe0",
   "metadata": {},
   "outputs": [
    {
     "data": {
      "image/png": "[encoded data removed]",
      "text/plain": [
       "<Figure size 640x480 with 1 Axes>"
      ]
     },
     "metadata": {},
     "output_type": "display_data"
    }
   ],
   "source": [
    "plt.hist(df_Scores['Difference'], bins=20)\n",
    "plt.title('Score Difference Distribution')\n",
    "plt.xlabel('Score Difference')\n",
    "plt.ylabel('Frequency')\n",
    "plt.savefig('Graphs/Hist Score Distribution.png')\n",
    "plt.show()"
   ]
  },
  {
   "cell_type": "markdown",
   "id": "3a348c81-bf7d-45c6-ab40-03b862f41c10",
   "metadata": {},
   "source": [
    "### Q-Q Plot\n",
    "Check if values land precisely on the line."
   ]
  },
  {
   "cell_type": "code",
   "execution_count": 10,
   "id": "983207ec-2762-4c29-89f2-e24c0f5d1fe6",
   "metadata": {},
   "outputs": [
    {
     "data": {
      "image/png": "[encoded data removed]",
      "text/plain": [
       "<Figure size 640x480 with 1 Axes>"
      ]
     },
     "metadata": {},
     "output_type": "display_data"
    }
   ],
   "source": [
    "probplot(df_Scores.Difference, dist=\"norm\", plot=plt)\n",
    "plt.title(\"Q-Q Plot of Score Difference\")\n",
    "plt.xlabel(\"Theoretical Quantiles\")\n",
    "plt.ylabel(\"Sample Quantiles\")\n",
    "plt.grid(True)\n",
    "plt.savefig('Graphs/QQ Plot of Score Difference.png')\n",
    "plt.show()"
   ]
  },
  {
   "cell_type": "markdown",
   "id": "f72cd3b9-7792-4763-873a-fcbfe9d5232e",
   "metadata": {},
   "source": [
    "## B. Statistical Approach\n",
    "### Shapiro for n <= 20\n",
    "\n",
    "Null Hypothesis is that it's Normal"
   ]
  },
  {
   "cell_type": "code",
   "execution_count": 11,
   "id": "bcdf9338-dac0-4b7c-bf9d-ccebf9fe3f55",
   "metadata": {},
   "outputs": [
    {
     "name": "stdout",
     "output_type": "stream",
     "text": [
      "t: 0.8634\n",
      "p: 0.2725\n"
     ]
    }
   ],
   "source": [
    "shapiro_result = shapiro(df_Scores.Difference)\n",
    "\n",
    "print(f't: {shapiro_result.statistic:.4f}')\n",
    "print(f'p: {shapiro_result.pvalue:.4f}')"
   ]
  },
  {
   "cell_type": "markdown",
   "id": "1f32486b-e0b4-45df-8493-a4ee792ee180",
   "metadata": {},
   "source": [
    "## Overwrite Shapiro\n",
    "If there's too few datapoints, assume already that it's Non-Parametric.\n",
    "\n",
    "Set to less than 10 datapoints"
   ]
  },
  {
   "cell_type": "code",
   "execution_count": 12,
   "id": "6f938bad-69f9-424b-b6dc-e8e1c9551477",
   "metadata": {},
   "outputs": [
    {
     "name": "stdout",
     "output_type": "stream",
     "text": [
      "Sample size is too small 4. Using Non Param eval\n"
     ]
    }
   ],
   "source": [
    "IsForceNonParam = False\n",
    "if df_Scores.shape[0] < 10:\n",
    "    IsForceNonParam = True\n",
    "    print(f\"Sample size is too small {df_Scores.shape[0]}. Using Non Param eval\")"
   ]
  },
  {
   "cell_type": "markdown",
   "id": "f0962edb-f5bd-4602-b38f-e738e8a68e88",
   "metadata": {},
   "source": [
    "# Evaluate Significant Difference and Effect\n",
    "\n",
    "<table>\n",
    "    <tr>\n",
    "        <td></td>\n",
    "        <td><b>T-Test</b></td>\n",
    "        <td><b>Wilcoxon</b></td>\n",
    "    </tr>\n",
    "    <tr>\n",
    "        <td><b>Sample size</b></td>\n",
    "        <td></td>\n",
    "        <td>N <= 20</td>\n",
    "    </tr>\n",
    "    <tr>\n",
    "        <td><b>Normal Distribution</b></td>\n",
    "        <td>✅</td>\n",
    "        <td>❌</td>\n",
    "    </tr>\n",
    "    <tr>\n",
    "        <td><b>Signinifigance</b></td>\n",
    "        <td>Mean</td>\n",
    "        <td>Median</td>\n",
    "    </tr>\n",
    "    <tr>\n",
    "        <td><b>Effect Metric</b></td>\n",
    "        <td>Cohen's D</td>\n",
    "        <td>Rank-biserial Correlation</td>\n",
    "    </tr>\n",
    "</table>"
   ]
  },
  {
   "cell_type": "code",
   "execution_count": 13,
   "id": "125e430a-5bbf-4a74-bc80-e6f3f14cc967",
   "metadata": {},
   "outputs": [
    {
     "name": "stdout",
     "output_type": "stream",
     "text": [
      "Using Wilcoxon with Non-Paremetric Data 0.2725%\n",
      "Rank-biserial correlation: 1.0000\n",
      "Test statistic: 0.0000\n",
      "p: 0.5000\n"
     ]
    }
   ],
   "source": [
    "if shapiro_result.pvalue > 0.05 and IsForceNonParam == False:\n",
    "    print(f'Using Paired T-Test with Normal Data {shapiro_result.pvalue:.4f}')\n",
    "    result = ttest_rel(df_Scores.Pretest, df_Scores.Posttest)\n",
    "\n",
    "    cohens_d = df_Scores.Difference.mean() / df_Scores.Difference.std()\n",
    "    print(f'Cohen\\'s D: {cohens_d:.4f}')\n",
    "\n",
    "else:\n",
    "    print(f'Using Wilcoxon with Non-Paremetric Data {shapiro_result.pvalue:.4f}%')\n",
    "    result = wilcoxon(df_Scores.Difference)\n",
    "\n",
    "    W = result.statistic\n",
    "    n = df_Scores.shape[0]\n",
    "    rb_corr = 1 - (2 * W) / (n * (n + 1) / 2)\n",
    "    \n",
    "    # rb_corr = result.zstatistic / np.sqrt(df_Scores.Difference.size)\n",
    "    print(f'Rank-biserial correlation: {rb_corr:.4f}')\n",
    "    \n",
    "    \n",
    "print(f'Test statistic: {result.statistic:.4f}')\n",
    "print(f'p: {result.pvalue:.4f}')"
   ]
  },
  {
   "cell_type": "markdown",
   "id": "123fa63a-cc2d-48e9-8531-0f1e01156610",
   "metadata": {},
   "source": [
    "### Cohen's D Effectiveness\n",
    "![Cohen's D](https://www.simplypsychology.org/wp-content/uploads/cohen-d.jpg)"
   ]
  }
 ],
 "metadata": {
  "kernelspec": {
   "display_name": "Python 3 (ipykernel)",
   "language": "python",
   "name": "python3"
  },
  "language_info": {
   "codemirror_mode": {
    "name": "ipython",
    "version": 3
   },
   "file_extension": ".py",
   "mimetype": "text/x-python",
   "name": "python",
   "nbconvert_exporter": "python",
   "pygments_lexer": "ipython3",
   "version": "3.12.8"
  }
 },
 "nbformat": 4,
 "nbformat_minor": 5
}
