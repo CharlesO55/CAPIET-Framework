{
 "cells": [
  {
   "cell_type": "code",
   "execution_count": 1,
   "id": "3c8cdc22-090d-4c59-8079-a3a72bf42318",
   "metadata": {},
   "outputs": [],
   "source": [
    "import subprocess\n",
    "import os"
   ]
  },
  {
   "cell_type": "code",
   "execution_count": 2,
   "id": "2f44f768-86b5-4988-a1eb-5f6840891e24",
   "metadata": {},
   "outputs": [],
   "source": [
    "def get_connected_devices():\n",
    "    \"\"\"Returns a list of connected device serial numbers.\"\"\"\n",
    "    result = subprocess.run([\"adb\", \"devices\"], capture_output=True, text=True)\n",
    "    lines = result.stdout.strip().splitlines()[1:]  # Skip the first line\n",
    "    devices = []\n",
    "    for line in lines:\n",
    "        if line.strip() and 'device' in line:\n",
    "            parts = line.split()\n",
    "            if parts[1] == 'device':\n",
    "                devices.append(parts[0])\n",
    "    return devices\n",
    "\n",
    "def push_folder_to_device(serial, local_folder_path, device_folder_path):\n",
    "    \"\"\"Push folder to specific device by serial number.\"\"\"\n",
    "    if not os.path.isdir(local_folder_path):\n",
    "        raise ValueError(f\"Local folder does not exist: {local_folder_path}\")\n",
    "\n",
    "    command = [\"adb\", \"-s\", serial, \"push\", local_folder_path, device_folder_path]\n",
    "\n",
    "    try:\n",
    "        result = subprocess.run(command, check=True, capture_output=True, text=True)\n",
    "        print(f\"[{serial}] Folder pushed successfully.\")\n",
    "    except subprocess.CalledProcessError as e:\n",
    "        print(f\"[{serial}] Failed to push folder. Error:\\n{e.stderr}\")\n",
    "\n",
    "def push_to_multiple_devices(local_path, device_path, max_devices=3):\n",
    "    devices = get_connected_devices()\n",
    "    print(f\"Found {len(devices)} devices: {devices}\")\n",
    "\n",
    "    if not devices:\n",
    "        print(\"No devices connected.\")\n",
    "        return\n",
    "\n",
    "    for serial in devices[:max_devices]:\n",
    "        print(f\"Pushing to device: {serial}\")\n",
    "        push_folder_to_device(serial, local_path, device_path)\n",
    "\n",
    "def Nuke():\n",
    "    cmd = ['adb', 'shell', 'rm', '-rf', '/sdcard/Download/']\n",
    "    result = subprocess.run(cmd, stdout=subprocess.PIPE, stderr=subprocess.PIPE, text=True)\n",
    "    print(result.stderr)\n",
    "    print(result.stdout)\n",
    "    print(\"Nuked\")"
   ]
  },
  {
   "cell_type": "code",
   "execution_count": 3,
   "id": "93777b5c-ce99-4bae-af02-d555f6d34fe4",
   "metadata": {},
   "outputs": [
    {
     "name": "stdout",
     "output_type": "stream",
     "text": [
      "\n",
      "\n",
      "Nuked\n"
     ]
    }
   ],
   "source": [
    "Nuke()"
   ]
  },
  {
   "cell_type": "code",
   "execution_count": 4,
   "id": "4cec27c0-7d92-4177-a64e-27dddbe6027f",
   "metadata": {},
   "outputs": [
    {
     "name": "stdout",
     "output_type": "stream",
     "text": [
      "Found 1 devices: ['R9TR20P5RLJ']\n",
      "Pushing to device: R9TR20P5RLJ\n",
      "[R9TR20P5RLJ] Folder pushed successfully.\n"
     ]
    }
   ],
   "source": [
    "local_folder = \"D:/CAPIET_Data/QUERST_EduGames\"\n",
    "device_folder = \"/sdcard/Download/QUERST_EduGames\"                     \n",
    "\n",
    "push_to_multiple_devices(local_folder, device_folder, max_devices=3)"
   ]
  },
  {
   "cell_type": "code",
   "execution_count": 5,
   "id": "557086a7-5f3f-4c27-9b68-42579a9fae0a",
   "metadata": {},
   "outputs": [],
   "source": [
    "def Install_APK(apkpath : str):\n",
    "    cmd = ['adb', 'install', apkpath]\n",
    "    result = subprocess.run(cmd, stdout=subprocess.PIPE, stderr=subprocess.PIPE, text=True)\n",
    "    print(result.stderr)\n",
    "    print(result.stdout)\n",
    "    print(f\"Installed {apkpath}\")"
   ]
  },
  {
   "cell_type": "code",
   "execution_count": 6,
   "id": "81b0c935-c700-484b-b231-48081b31400c",
   "metadata": {},
   "outputs": [
    {
     "name": "stdout",
     "output_type": "stream",
     "text": [
      "\n",
      "Performing Streamed Install\n",
      "Success\n",
      "\n",
      "Installed D:/CAPIET_Data/QUERST_EduGames/Games/alien-factor-PGDX-fixedcontrols-v7.apk\n",
      "\n",
      "Performing Streamed Install\n",
      "Success\n",
      "\n",
      "Installed D:/CAPIET_Data/QUERST_EduGames/Games/Arcane Shapes ver3.apk\n",
      "\n",
      "Performing Streamed Install\n",
      "Success\n",
      "\n",
      "Installed D:/CAPIET_Data/QUERST_EduGames/Games/NIXIE_Unlocked.apk\n"
     ]
    }
   ],
   "source": [
    "Install_APK('D:/CAPIET_Data/QUERST_EduGames/Games/alien-factor-PGDX-fixedcontrols-v7.apk')\n",
    "Install_APK('D:/CAPIET_Data/QUERST_EduGames/Games/Arcane Shapes ver3.apk')\n",
    "# Install_APK('D:/CAPIET_Data/QUERST_EduGames/Games/BabaylanTales_v1_13_TheBuild.apk')\n",
    "Install_APK('D:/CAPIET_Data/QUERST_EduGames/Games/NIXIE_Unlocked.apk')"
   ]
  }
 ],
 "metadata": {
  "kernelspec": {
   "display_name": "Python 3 (ipykernel)",
   "language": "python",
   "name": "python3"
  },
  "language_info": {
   "codemirror_mode": {
    "name": "ipython",
    "version": 3
   },
   "file_extension": ".py",
   "mimetype": "text/x-python",
   "name": "python",
   "nbconvert_exporter": "python",
   "pygments_lexer": "ipython3",
   "version": "3.12.8"
  }
 },
 "nbformat": 4,
 "nbformat_minor": 5
}
